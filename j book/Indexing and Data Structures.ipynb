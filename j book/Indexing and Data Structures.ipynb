{
 "cells": [
  {
   "cell_type": "code",
   "execution_count": 1,
   "id": "b05316f8",
   "metadata": {
    "scrolled": true
   },
   "outputs": [
    {
     "data": {
      "text/plain": [
       "'This is my first post'"
      ]
     },
     "execution_count": 1,
     "metadata": {},
     "output_type": "execute_result"
    }
   ],
   "source": [
    "# Make a string \n",
    "\n",
    "a = 'This is my first post'\n",
    "a"
   ]
  },
  {
   "cell_type": "code",
   "execution_count": 4,
   "id": "249e7ac8",
   "metadata": {
    "scrolled": true
   },
   "outputs": [
    {
     "data": {
      "text/plain": [
       "'f'"
      ]
     },
     "execution_count": 4,
     "metadata": {},
     "output_type": "execute_result"
    }
   ],
   "source": [
    "# Find Index Values\n",
    "a[11]"
   ]
  },
  {
   "cell_type": "code",
   "execution_count": 5,
   "id": "ca56d18d",
   "metadata": {
    "scrolled": true
   },
   "outputs": [
    {
     "data": {
      "text/plain": [
       "21"
      ]
     },
     "execution_count": 5,
     "metadata": {},
     "output_type": "execute_result"
    }
   ],
   "source": [
    "# Find Length of Indices\n",
    "len(a)"
   ]
  },
  {
   "cell_type": "code",
   "execution_count": 7,
   "id": "88d3494f",
   "metadata": {
    "scrolled": true
   },
   "outputs": [
    {
     "data": {
      "text/plain": [
       "'is my first post'"
      ]
     },
     "execution_count": 7,
     "metadata": {},
     "output_type": "execute_result"
    }
   ],
   "source": [
    "# Find Index range value\n",
    "a[5:21]"
   ]
  },
  {
   "cell_type": "code",
   "execution_count": 8,
   "id": "d5d92cf6",
   "metadata": {
    "scrolled": true
   },
   "outputs": [
    {
     "data": {
      "text/plain": [
       "'t'"
      ]
     },
     "execution_count": 8,
     "metadata": {},
     "output_type": "execute_result"
    }
   ],
   "source": [
    "# Find reverse Indices value\n",
    "a[-1]"
   ]
  },
  {
   "cell_type": "code",
   "execution_count": 16,
   "id": "3ebe9857",
   "metadata": {
    "scrolled": true
   },
   "outputs": [
    {
     "data": {
      "text/plain": [
       "''"
      ]
     },
     "execution_count": 16,
     "metadata": {},
     "output_type": "execute_result"
    }
   ],
   "source": [
    "# Find reverse Indices value with range -- is not working properly here\n",
    "a[-2:6]"
   ]
  },
  {
   "cell_type": "markdown",
   "id": "a97cebd0",
   "metadata": {},
   "source": [
    "##### string methods"
   ]
  },
  {
   "cell_type": "code",
   "execution_count": 19,
   "id": "220744a9",
   "metadata": {},
   "outputs": [],
   "source": [
    "food = 'pasta'\n"
   ]
  },
  {
   "cell_type": "code",
   "execution_count": 21,
   "id": "b24bfa2d",
   "metadata": {
    "scrolled": true
   },
   "outputs": [
    {
     "data": {
      "text/plain": [
       "'Pasta'"
      ]
     },
     "execution_count": 21,
     "metadata": {},
     "output_type": "execute_result"
    }
   ],
   "source": [
    "food.capitalize() #convert Capatalize"
   ]
  },
  {
   "cell_type": "code",
   "execution_count": 22,
   "id": "5000b032",
   "metadata": {},
   "outputs": [
    {
     "data": {
      "text/plain": [
       "'PASTA'"
      ]
     },
     "execution_count": 22,
     "metadata": {},
     "output_type": "execute_result"
    }
   ],
   "source": [
    "food.upper() # convert into uppercase"
   ]
  },
  {
   "cell_type": "code",
   "execution_count": 23,
   "id": "610cc4cc",
   "metadata": {
    "scrolled": true
   },
   "outputs": [
    {
     "data": {
      "text/plain": [
       "'pasta'"
      ]
     },
     "execution_count": 23,
     "metadata": {},
     "output_type": "execute_result"
    }
   ],
   "source": [
    "food.lower() # convert into uppercase"
   ]
  },
  {
   "cell_type": "code",
   "execution_count": null,
   "id": "b1b49cae",
   "metadata": {},
   "outputs": [],
   "source": [
    "#Replace any keyword\n",
    "name = 'Tariq'\n",
    "name.replace('q','que')"
   ]
  },
  {
   "cell_type": "code",
   "execution_count": 27,
   "id": "60245eae",
   "metadata": {
    "scrolled": true
   },
   "outputs": [
    {
     "data": {
      "text/plain": [
       "2"
      ]
     },
     "execution_count": 27,
     "metadata": {},
     "output_type": "execute_result"
    }
   ],
   "source": [
    "name = 'This is the second largest'  # word count\n",
    "name.count('h')"
   ]
  },
  {
   "cell_type": "code",
   "execution_count": 32,
   "id": "0540554e",
   "metadata": {},
   "outputs": [
    {
     "data": {
      "text/plain": [
       "12"
      ]
     },
     "execution_count": 32,
     "metadata": {},
     "output_type": "execute_result"
    }
   ],
   "source": [
    "name.find('second') #find index"
   ]
  },
  {
   "cell_type": "code",
   "execution_count": 34,
   "id": "0afe4969",
   "metadata": {
    "scrolled": true
   },
   "outputs": [
    {
     "data": {
      "text/plain": [
       "['This is sindh', 'Pakistan']"
      ]
     },
     "execution_count": 34,
     "metadata": {},
     "output_type": "execute_result"
    }
   ],
   "source": [
    "#split\n",
    "line = 'This is sindh,Pakistan'\n",
    "line.split(',')"
   ]
  },
  {
   "cell_type": "markdown",
   "id": "b74c79cb",
   "metadata": {},
   "source": [
    "## Basic Data Structure in Python\n",
    "**1- Tuple**\n",
    "\n",
    "**2- List**\n",
    "\n",
    "**3- Dictionaries**\n",
    "\n",
    "**4- Set**"
   ]
  },
  {
   "cell_type": "markdown",
   "id": "9a468549",
   "metadata": {},
   "source": [
    "### 1 - Tuple\n",
    "- Ordered Collection of elements\n",
    "- enclosed in round braces ()\n",
    "- different types of elements can be stored\n",
    "- once elements are stored you cannot change (unmutable)\n"
   ]
  },
  {
   "cell_type": "code",
   "execution_count": 1,
   "id": "e402784f",
   "metadata": {},
   "outputs": [
    {
     "data": {
      "text/plain": [
       "(1, 'Tarique', True, 7.5)"
      ]
     },
     "execution_count": 1,
     "metadata": {},
     "output_type": "execute_result"
    }
   ],
   "source": [
    "tup1 = (1,'Tarique',True,7.5)\n",
    "tup1"
   ]
  },
  {
   "cell_type": "code",
   "execution_count": 2,
   "id": "bfe92362",
   "metadata": {},
   "outputs": [
    {
     "data": {
      "text/plain": [
       "tuple"
      ]
     },
     "execution_count": 2,
     "metadata": {},
     "output_type": "execute_result"
    }
   ],
   "source": [
    "# type of tuple\n",
    "type(tup1)"
   ]
  },
  {
   "cell_type": "markdown",
   "id": "e11dca90",
   "metadata": {},
   "source": [
    "### indexing in typle"
   ]
  },
  {
   "cell_type": "code",
   "execution_count": 3,
   "id": "cd487657",
   "metadata": {},
   "outputs": [
    {
     "data": {
      "text/plain": [
       "'Tarique'"
      ]
     },
     "execution_count": 3,
     "metadata": {},
     "output_type": "execute_result"
    }
   ],
   "source": [
    "tup1[1]"
   ]
  },
  {
   "cell_type": "code",
   "execution_count": 5,
   "id": "51878d5e",
   "metadata": {},
   "outputs": [
    {
     "data": {
      "text/plain": [
       "('Tarique', True)"
      ]
     },
     "execution_count": 5,
     "metadata": {},
     "output_type": "execute_result"
    }
   ],
   "source": [
    "tup1[1:3]"
   ]
  },
  {
   "cell_type": "code",
   "execution_count": 6,
   "id": "385e38d3",
   "metadata": {},
   "outputs": [
    {
     "data": {
      "text/plain": [
       "4"
      ]
     },
     "execution_count": 6,
     "metadata": {},
     "output_type": "execute_result"
    }
   ],
   "source": [
    "#elements count in tuple\n",
    "len(tup1)"
   ]
  },
  {
   "cell_type": "code",
   "execution_count": 7,
   "id": "f861cb9d",
   "metadata": {},
   "outputs": [
    {
     "data": {
      "text/plain": [
       "(1, 'Pakistan')"
      ]
     },
     "execution_count": 7,
     "metadata": {},
     "output_type": "execute_result"
    }
   ],
   "source": [
    "tup2 = (1,'Pakistan')\n",
    "tup2"
   ]
  },
  {
   "cell_type": "code",
   "execution_count": 8,
   "id": "3c3fc9f9",
   "metadata": {},
   "outputs": [
    {
     "data": {
      "text/plain": [
       "(1, 'Tarique', True, 7.5, 1, 'Pakistan')"
      ]
     },
     "execution_count": 8,
     "metadata": {},
     "output_type": "execute_result"
    }
   ],
   "source": [
    "tup1 + tup2"
   ]
  },
  {
   "cell_type": "code",
   "execution_count": 2,
   "id": "2f5871bd",
   "metadata": {},
   "outputs": [
    {
     "data": {
      "text/plain": [
       "(1, 2, 3, 4, 5, 6)"
      ]
     },
     "execution_count": 2,
     "metadata": {},
     "output_type": "execute_result"
    }
   ],
   "source": [
    "tup3 = (1,2,3,4,5,6)\n",
    "tup3"
   ]
  },
  {
   "cell_type": "code",
   "execution_count": 3,
   "id": "fd297f9b",
   "metadata": {},
   "outputs": [
    {
     "data": {
      "text/plain": [
       "1"
      ]
     },
     "execution_count": 3,
     "metadata": {},
     "output_type": "execute_result"
    }
   ],
   "source": [
    "min(tup3) #minimum"
   ]
  },
  {
   "cell_type": "code",
   "execution_count": 4,
   "id": "f074506b",
   "metadata": {},
   "outputs": [
    {
     "data": {
      "text/plain": [
       "6"
      ]
     },
     "execution_count": 4,
     "metadata": {},
     "output_type": "execute_result"
    }
   ],
   "source": [
    "max(tup3) #maximum\n"
   ]
  },
  {
   "cell_type": "code",
   "execution_count": 5,
   "id": "bc2c1871",
   "metadata": {},
   "outputs": [
    {
     "data": {
      "text/plain": [
       "(1, 2, 3, 4, 5, 6, 1, 2, 3, 4, 5, 6)"
      ]
     },
     "execution_count": 5,
     "metadata": {},
     "output_type": "execute_result"
    }
   ],
   "source": [
    "tup3*2"
   ]
  },
  {
   "cell_type": "code",
   "execution_count": 7,
   "id": "01269297",
   "metadata": {},
   "outputs": [
    {
     "data": {
      "text/plain": [
       "1"
      ]
     },
     "execution_count": 7,
     "metadata": {},
     "output_type": "execute_result"
    }
   ],
   "source": [
    "tup3.count(4)"
   ]
  },
  {
   "cell_type": "code",
   "execution_count": 8,
   "id": "3a050c17",
   "metadata": {},
   "outputs": [
    {
     "data": {
      "text/plain": [
       "4"
      ]
     },
     "execution_count": 8,
     "metadata": {},
     "output_type": "execute_result"
    }
   ],
   "source": [
    "tup3.index(5)"
   ]
  },
  {
   "cell_type": "markdown",
   "id": "826f2b46",
   "metadata": {},
   "source": [
    "### 2 - List\n",
    "- Ordered Collection of elements\n",
    "- enclosed in square braces []\n",
    "- once elements are stored you can change (mutable)"
   ]
  },
  {
   "cell_type": "code",
   "execution_count": 10,
   "id": "bdc55997",
   "metadata": {},
   "outputs": [
    {
     "data": {
      "text/plain": [
       "[1, 'aslam', False, 4.5]"
      ]
     },
     "execution_count": 10,
     "metadata": {},
     "output_type": "execute_result"
    }
   ],
   "source": [
    "list1 = [1,'aslam',False,4.5]\n",
    "list1"
   ]
  },
  {
   "cell_type": "code",
   "execution_count": 9,
   "id": "66b0210e",
   "metadata": {},
   "outputs": [
    {
     "data": {
      "text/plain": [
       "[1, 2, 2, 'aslam']"
      ]
     },
     "execution_count": 9,
     "metadata": {},
     "output_type": "execute_result"
    }
   ],
   "source": [
    "list1.insert(1,2)\n",
    "list1"
   ]
  },
  {
   "cell_type": "code",
   "execution_count": 8,
   "id": "fffdfbbf",
   "metadata": {},
   "outputs": [
    {
     "data": {
      "text/plain": [
       "[1, 2, 'aslam']"
      ]
     },
     "execution_count": 8,
     "metadata": {},
     "output_type": "execute_result"
    }
   ],
   "source": [
    "list1.pop(3) # remove the element\n",
    "list1"
   ]
  },
  {
   "cell_type": "code",
   "execution_count": 18,
   "id": "b7e49014",
   "metadata": {},
   "outputs": [
    {
     "data": {
      "text/plain": [
       "[1, 2, 2]"
      ]
     },
     "execution_count": 18,
     "metadata": {},
     "output_type": "execute_result"
    }
   ],
   "source": [
    "list1"
   ]
  },
  {
   "cell_type": "code",
   "execution_count": 19,
   "id": "3001d0d6",
   "metadata": {},
   "outputs": [
    {
     "data": {
      "text/plain": [
       "[1, 2, 2, 'aslam']"
      ]
     },
     "execution_count": 19,
     "metadata": {},
     "output_type": "execute_result"
    }
   ],
   "source": [
    "list1.append('aslam')\n",
    "list1"
   ]
  },
  {
   "cell_type": "code",
   "execution_count": 17,
   "id": "7ef16bdf",
   "metadata": {},
   "outputs": [
    {
     "data": {
      "text/plain": [
       "list"
      ]
     },
     "execution_count": 17,
     "metadata": {},
     "output_type": "execute_result"
    }
   ],
   "source": [
    "type (list1)"
   ]
  },
  {
   "cell_type": "code",
   "execution_count": 20,
   "id": "41fc0710",
   "metadata": {},
   "outputs": [
    {
     "data": {
      "text/plain": [
       "[1, 2, 'aslam']"
      ]
     },
     "execution_count": 20,
     "metadata": {},
     "output_type": "execute_result"
    }
   ],
   "source": [
    "list1.remove(2)\n",
    "list1"
   ]
  },
  {
   "cell_type": "code",
   "execution_count": 21,
   "id": "e9b8c80f",
   "metadata": {},
   "outputs": [],
   "source": [
    "list1.remove(2)"
   ]
  },
  {
   "cell_type": "code",
   "execution_count": 22,
   "id": "496dd135",
   "metadata": {},
   "outputs": [
    {
     "data": {
      "text/plain": [
       "[1, 'aslam']"
      ]
     },
     "execution_count": 22,
     "metadata": {},
     "output_type": "execute_result"
    }
   ],
   "source": [
    "list1"
   ]
  },
  {
   "cell_type": "code",
   "execution_count": 24,
   "id": "6403d017",
   "metadata": {
    "scrolled": true
   },
   "outputs": [
    {
     "data": {
      "text/plain": [
       "[1, 'aslam', 'apple']"
      ]
     },
     "execution_count": 24,
     "metadata": {},
     "output_type": "execute_result"
    }
   ],
   "source": [
    "list1.append('apple')\n",
    "list1"
   ]
  },
  {
   "cell_type": "code",
   "execution_count": 25,
   "id": "3899baa3",
   "metadata": {
    "scrolled": true
   },
   "outputs": [
    {
     "data": {
      "text/plain": [
       "[1, 'aslam', 'apple', '4']"
      ]
     },
     "execution_count": 25,
     "metadata": {},
     "output_type": "execute_result"
    }
   ],
   "source": [
    "list1.append('4')\n",
    "list1"
   ]
  },
  {
   "cell_type": "code",
   "execution_count": 26,
   "id": "b7e98e87",
   "metadata": {
    "scrolled": true
   },
   "outputs": [
    {
     "data": {
      "text/plain": [
       "[1, 'aslam', 'apple', '4', 5]"
      ]
     },
     "execution_count": 26,
     "metadata": {},
     "output_type": "execute_result"
    }
   ],
   "source": [
    "list1.append(5)\n",
    "list1"
   ]
  },
  {
   "cell_type": "code",
   "execution_count": 27,
   "id": "38fbfaa7",
   "metadata": {
    "scrolled": true
   },
   "outputs": [
    {
     "ename": "TypeError",
     "evalue": "'<' not supported between instances of 'str' and 'int'",
     "output_type": "error",
     "traceback": [
      "\u001b[1;31m---------------------------------------------------------------------------\u001b[0m",
      "\u001b[1;31mTypeError\u001b[0m                                 Traceback (most recent call last)",
      "\u001b[1;32m~\\AppData\\Local\\Temp\\ipykernel_19652\\3465620299.py\u001b[0m in \u001b[0;36m<module>\u001b[1;34m\u001b[0m\n\u001b[1;32m----> 1\u001b[1;33m \u001b[0mlist1\u001b[0m\u001b[1;33m.\u001b[0m\u001b[0msort\u001b[0m\u001b[1;33m(\u001b[0m\u001b[1;33m)\u001b[0m\u001b[1;33m\u001b[0m\u001b[1;33m\u001b[0m\u001b[0m\n\u001b[0m\u001b[0;32m      2\u001b[0m \u001b[0mlist1\u001b[0m\u001b[1;33m\u001b[0m\u001b[1;33m\u001b[0m\u001b[0m\n",
      "\u001b[1;31mTypeError\u001b[0m: '<' not supported between instances of 'str' and 'int'"
     ]
    }
   ],
   "source": [
    "list1.sort()\n",
    "list1"
   ]
  },
  {
   "cell_type": "code",
   "execution_count": 14,
   "id": "6b10c95e",
   "metadata": {},
   "outputs": [
    {
     "data": {
      "text/plain": [
       "[2, 'nadir', True, 10.5]"
      ]
     },
     "execution_count": 14,
     "metadata": {},
     "output_type": "execute_result"
    }
   ],
   "source": [
    "list2 = [2,'nadir',True,10.5]\n",
    "list2"
   ]
  },
  {
   "cell_type": "code",
   "execution_count": 19,
   "id": "0f432eff",
   "metadata": {},
   "outputs": [
    {
     "data": {
      "text/plain": [
       "[1, 'aslam', False, 4.5, 2, 'nadir', True, 10.5]"
      ]
     },
     "execution_count": 19,
     "metadata": {},
     "output_type": "execute_result"
    }
   ],
   "source": [
    "list1 + list2"
   ]
  },
  {
   "cell_type": "code",
   "execution_count": 20,
   "id": "6be42a68",
   "metadata": {},
   "outputs": [
    {
     "data": {
      "text/plain": [
       "[2, 'nadir', True, 10.5, 2, 'nadir', True, 10.5]"
      ]
     },
     "execution_count": 20,
     "metadata": {},
     "output_type": "execute_result"
    }
   ],
   "source": [
    "list2*2"
   ]
  },
  {
   "cell_type": "code",
   "execution_count": 24,
   "id": "5d4b371e",
   "metadata": {},
   "outputs": [
    {
     "data": {
      "text/plain": [
       "[1, 'aslam', False, 4.5, 'youtube']"
      ]
     },
     "execution_count": 24,
     "metadata": {},
     "output_type": "execute_result"
    }
   ],
   "source": [
    "list1.append('youtube') #insert any element\n",
    "list1"
   ]
  },
  {
   "cell_type": "code",
   "execution_count": 23,
   "id": "4b805f5b",
   "metadata": {},
   "outputs": [
    {
     "data": {
      "text/plain": [
       "[10.5,\n",
       " True,\n",
       " 'facebook',\n",
       " 'nadir',\n",
       " 2,\n",
       " 10.5,\n",
       " True,\n",
       " 'nadir',\n",
       " 2,\n",
       " 4.5,\n",
       " False,\n",
       " 'aslam',\n",
       " 1]"
      ]
     },
     "execution_count": 23,
     "metadata": {},
     "output_type": "execute_result"
    }
   ],
   "source": [
    "list1.insert(2,'facebook') #intert any object and define index where to insert\n",
    "list1"
   ]
  },
  {
   "cell_type": "code",
   "execution_count": 25,
   "id": "977fa574",
   "metadata": {
    "scrolled": true
   },
   "outputs": [
    {
     "data": {
      "text/plain": [
       "[1, 'aslam', False, 4.5, 'youtube', 'w', 'a', 'l', 'i', 'd']"
      ]
     },
     "execution_count": 25,
     "metadata": {},
     "output_type": "execute_result"
    }
   ],
   "source": [
    "list1.extend('walid')\n",
    "list1"
   ]
  },
  {
   "cell_type": "code",
   "execution_count": 29,
   "id": "1e43a6f9",
   "metadata": {
    "scrolled": false
   },
   "outputs": [
    {
     "data": {
      "text/plain": [
       "[]"
      ]
     },
     "execution_count": 29,
     "metadata": {},
     "output_type": "execute_result"
    }
   ],
   "source": [
    "list3.clear()\n",
    "list3"
   ]
  },
  {
   "cell_type": "code",
   "execution_count": 30,
   "id": "5457f9fa",
   "metadata": {},
   "outputs": [
    {
     "data": {
      "text/plain": [
       "[1, 'aslam', False, 4.5, 'youtube', 'w', 'a', 'l', 'i', 'd']"
      ]
     },
     "execution_count": 30,
     "metadata": {},
     "output_type": "execute_result"
    }
   ],
   "source": [
    "list1.copy()"
   ]
  },
  {
   "cell_type": "code",
   "execution_count": 36,
   "id": "67d22241",
   "metadata": {},
   "outputs": [
    {
     "data": {
      "text/plain": [
       "3"
      ]
     },
     "execution_count": 36,
     "metadata": {},
     "output_type": "execute_result"
    }
   ],
   "source": [
    "list1.index(4.5)"
   ]
  },
  {
   "cell_type": "code",
   "execution_count": 37,
   "id": "fbc370ba",
   "metadata": {},
   "outputs": [
    {
     "data": {
      "text/plain": [
       "10"
      ]
     },
     "execution_count": 37,
     "metadata": {},
     "output_type": "execute_result"
    }
   ],
   "source": [
    "len(list1)"
   ]
  },
  {
   "cell_type": "code",
   "execution_count": 40,
   "id": "55e53747",
   "metadata": {},
   "outputs": [
    {
     "data": {
      "text/plain": [
       "[10, 20, 30, 40, 60, 70, 90]"
      ]
     },
     "execution_count": 40,
     "metadata": {},
     "output_type": "execute_result"
    }
   ],
   "source": [
    "list4 = [10,40,60,20,30,90,70]\n",
    "list4.sort()\n",
    "list4"
   ]
  },
  {
   "cell_type": "code",
   "execution_count": 41,
   "id": "2a0f9de8",
   "metadata": {},
   "outputs": [
    {
     "data": {
      "text/plain": [
       "[10, 20, 30, 40, 60, 70, 90, 10, 20, 30, 40, 60, 70, 90]"
      ]
     },
     "execution_count": 41,
     "metadata": {},
     "output_type": "execute_result"
    }
   ],
   "source": [
    "list4*2"
   ]
  },
  {
   "cell_type": "code",
   "execution_count": 42,
   "id": "6027b897",
   "metadata": {},
   "outputs": [
    {
     "data": {
      "text/plain": [
       "[1,\n",
       " 'aslam',\n",
       " False,\n",
       " 4.5,\n",
       " 'youtube',\n",
       " 'w',\n",
       " 'a',\n",
       " 'l',\n",
       " 'i',\n",
       " 'd',\n",
       " 2,\n",
       " 'nadir',\n",
       " True,\n",
       " 10.5]"
      ]
     },
     "execution_count": 42,
     "metadata": {},
     "output_type": "execute_result"
    }
   ],
   "source": [
    "lists = list1 + list2 \n",
    "lists"
   ]
  },
  {
   "cell_type": "code",
   "execution_count": 16,
   "id": "bd22511e",
   "metadata": {},
   "outputs": [
    {
     "data": {
      "text/plain": [
       "[1, 'aslam', False, 4.5, 2, 'nadir', True, 10.5, 2, 'nadir', True, 10.5]"
      ]
     },
     "execution_count": 16,
     "metadata": {},
     "output_type": "execute_result"
    }
   ],
   "source": [
    "list1.extend(list2)\n",
    "list1"
   ]
  },
  {
   "cell_type": "code",
   "execution_count": 21,
   "id": "de0c0671",
   "metadata": {},
   "outputs": [
    {
     "data": {
      "text/plain": [
       "[10.5, True, 'nadir', 2, 10.5, True, 'nadir', 2, 4.5, False, 'aslam', 1]"
      ]
     },
     "execution_count": 21,
     "metadata": {},
     "output_type": "execute_result"
    }
   ],
   "source": [
    "list1.reverse()\n",
    "list1"
   ]
  },
  {
   "cell_type": "markdown",
   "id": "768d33eb",
   "metadata": {},
   "source": [
    "### 1 - Dictionaries\n",
    "- Unordered Collection of elements\n",
    "- enclosed in curly braces {}\n",
    "- key and value\n",
    "- can change value (unmutable)"
   ]
  },
  {
   "cell_type": "code",
   "execution_count": 25,
   "id": "cde55313",
   "metadata": {},
   "outputs": [
    {
     "data": {
      "text/plain": [
       "{'apple': 30, 'banana': 40, 'orange': 70, 'grapes': 90}"
      ]
     },
     "execution_count": 25,
     "metadata": {},
     "output_type": "execute_result"
    }
   ],
   "source": [
    "#fruit and their prices\n",
    "fruit1 = {'apple':30,'banana':40,'orange':70,'grapes':90}\n",
    "fruit1"
   ]
  },
  {
   "cell_type": "code",
   "execution_count": 39,
   "id": "0f45414b",
   "metadata": {},
   "outputs": [
    {
     "data": {
      "text/plain": [
       "{'apple': 30, 'banana': 40, 'orange': 70, 'grapes': 90}"
      ]
     },
     "execution_count": 39,
     "metadata": {},
     "output_type": "execute_result"
    }
   ],
   "source": [
    "fruit1.items() #retrun the key value pair\n",
    "fruit1"
   ]
  },
  {
   "cell_type": "code",
   "execution_count": 40,
   "id": "f0338626",
   "metadata": {
    "scrolled": true
   },
   "outputs": [
    {
     "data": {
      "text/plain": [
       "{'apple': 30, 'banana': 40, 'orange': 70}"
      ]
     },
     "execution_count": 40,
     "metadata": {},
     "output_type": "execute_result"
    }
   ],
   "source": [
    "fruit1.popitem() # remove the last item\n",
    "fruit1"
   ]
  },
  {
   "cell_type": "code",
   "execution_count": 34,
   "id": "c020cd6a",
   "metadata": {
    "scrolled": true
   },
   "outputs": [
    {
     "data": {
      "text/plain": [
       "{'banana': 40,\n",
       " 'orange': 70,\n",
       " 'grapes': 90,\n",
       " 'potato': 50,\n",
       " 'tomato': 20,\n",
       " 'rice': 60,\n",
       " 'magno': 60}"
      ]
     },
     "execution_count": 34,
     "metadata": {},
     "output_type": "execute_result"
    }
   ],
   "source": [
    "fruit1.pop('apple') #remove selected item from the dictionary\n",
    "fruit1"
   ]
  },
  {
   "cell_type": "code",
   "execution_count": 44,
   "id": "7311dc9c",
   "metadata": {},
   "outputs": [
    {
     "data": {
      "text/plain": [
       "{'apple': 30, 'banana': 40, 'orange': 70, 'grapes': 90}"
      ]
     },
     "execution_count": 44,
     "metadata": {},
     "output_type": "execute_result"
    }
   ],
   "source": [
    "fruit1['grapes'] = 90 # add key and value \n",
    "fruit1"
   ]
  },
  {
   "cell_type": "code",
   "execution_count": 27,
   "id": "f9559156",
   "metadata": {},
   "outputs": [
    {
     "data": {
      "text/plain": [
       "40"
      ]
     },
     "execution_count": 27,
     "metadata": {},
     "output_type": "execute_result"
    }
   ],
   "source": [
    "x = fruit1.setdefault('banana','orange') #return the key value\n",
    "x"
   ]
  },
  {
   "cell_type": "code",
   "execution_count": 56,
   "id": "64c58b9b",
   "metadata": {},
   "outputs": [
    {
     "data": {
      "text/plain": [
       "{'apple': 30, 'banana': 50, 'orange': 70, 'grapes': 90}"
      ]
     },
     "execution_count": 56,
     "metadata": {},
     "output_type": "execute_result"
    }
   ],
   "source": [
    "fruit1['banana'] = 50\n",
    "fruit1"
   ]
  },
  {
   "cell_type": "code",
   "execution_count": 3,
   "id": "ebb54500",
   "metadata": {},
   "outputs": [
    {
     "data": {
      "text/plain": [
       "dict"
      ]
     },
     "execution_count": 3,
     "metadata": {},
     "output_type": "execute_result"
    }
   ],
   "source": [
    "type(fruit1)"
   ]
  },
  {
   "cell_type": "code",
   "execution_count": 4,
   "id": "f1b2cefd",
   "metadata": {},
   "outputs": [
    {
     "data": {
      "text/plain": [
       "dict_keys(['apple', 'banana', 'orange', 'grapes'])"
      ]
     },
     "execution_count": 4,
     "metadata": {},
     "output_type": "execute_result"
    }
   ],
   "source": [
    "#extract keys\n",
    "fruit1.keys()"
   ]
  },
  {
   "cell_type": "code",
   "execution_count": 5,
   "id": "4bea6fd6",
   "metadata": {},
   "outputs": [
    {
     "data": {
      "text/plain": [
       "dict_values([30, 40, 70, 90])"
      ]
     },
     "execution_count": 5,
     "metadata": {},
     "output_type": "execute_result"
    }
   ],
   "source": [
    "#extract values\n",
    "fruit1.values()"
   ]
  },
  {
   "cell_type": "code",
   "execution_count": 6,
   "id": "2db209c3",
   "metadata": {},
   "outputs": [
    {
     "data": {
      "text/plain": [
       "{'apple': 30, 'banana': 40, 'orange': 70, 'grapes': 90, 'blueberry': 100}"
      ]
     },
     "execution_count": 6,
     "metadata": {},
     "output_type": "execute_result"
    }
   ],
   "source": [
    "#adding new element\n",
    "fruit1['blueberry'] = 100\n",
    "fruit1"
   ]
  },
  {
   "cell_type": "code",
   "execution_count": 7,
   "id": "6117b020",
   "metadata": {},
   "outputs": [
    {
     "data": {
      "text/plain": [
       "{'apple': 30, 'banana': 40, 'orange': 70, 'grapes': 90, 'blueberry': 95}"
      ]
     },
     "execution_count": 7,
     "metadata": {},
     "output_type": "execute_result"
    }
   ],
   "source": [
    "#update element\n",
    "fruit1['blueberry'] = 95\n",
    "fruit1"
   ]
  },
  {
   "cell_type": "code",
   "execution_count": 29,
   "id": "0761b6f1",
   "metadata": {
    "scrolled": true
   },
   "outputs": [
    {
     "data": {
      "text/plain": [
       "{'potato': 50, 'tomato': 20, 'rice': 60}"
      ]
     },
     "execution_count": 29,
     "metadata": {},
     "output_type": "execute_result"
    }
   ],
   "source": [
    "vegi1 = {'potato':50,'tomato':20,'rice':60}\n",
    "vegi1"
   ]
  },
  {
   "cell_type": "code",
   "execution_count": 30,
   "id": "c303b6ef",
   "metadata": {},
   "outputs": [
    {
     "data": {
      "text/plain": [
       "{'apple': {'potato': 50, 'tomato': 20, 'rice': 60},\n",
       " 'banana': {'potato': 50, 'tomato': 20, 'rice': 60},\n",
       " 'orange': {'potato': 50, 'tomato': 20, 'rice': 60},\n",
       " 'grapes': {'potato': 50, 'tomato': 20, 'rice': 60}}"
      ]
     },
     "execution_count": 30,
     "metadata": {},
     "output_type": "execute_result"
    }
   ],
   "source": [
    "a = dict.fromkeys(fruit1,vegi1) #ra\n",
    "a"
   ]
  },
  {
   "cell_type": "code",
   "execution_count": 31,
   "id": "def97dbb",
   "metadata": {
    "scrolled": true
   },
   "outputs": [
    {
     "data": {
      "text/plain": [
       "{'apple': 30,\n",
       " 'banana': 40,\n",
       " 'orange': 70,\n",
       " 'grapes': 90,\n",
       " 'potato': 50,\n",
       " 'tomato': 20,\n",
       " 'rice': 60}"
      ]
     },
     "execution_count": 31,
     "metadata": {},
     "output_type": "execute_result"
    }
   ],
   "source": [
    "fruit1.update(vegi1)\n",
    "fruit1"
   ]
  },
  {
   "cell_type": "code",
   "execution_count": 32,
   "id": "17753cfc",
   "metadata": {
    "scrolled": true
   },
   "outputs": [
    {
     "data": {
      "text/plain": [
       "{'apple': 30,\n",
       " 'banana': 40,\n",
       " 'orange': 70,\n",
       " 'grapes': 90,\n",
       " 'potato': 50,\n",
       " 'tomato': 20,\n",
       " 'rice': 60,\n",
       " 'magno': 60}"
      ]
     },
     "execution_count": 32,
     "metadata": {},
     "output_type": "execute_result"
    }
   ],
   "source": [
    "fruit1.update({'magno':60}) #add item and value\n",
    "fruit1"
   ]
  },
  {
   "cell_type": "code",
   "execution_count": 33,
   "id": "39558046",
   "metadata": {},
   "outputs": [
    {
     "data": {
      "text/plain": [
       "60"
      ]
     },
     "execution_count": 33,
     "metadata": {},
     "output_type": "execute_result"
    }
   ],
   "source": [
    "x = fruit1.get('rice') # get the value of selected item\n",
    "x"
   ]
  },
  {
   "cell_type": "markdown",
   "id": "0bf8e940",
   "metadata": {},
   "source": [
    "### 4 - Set\n",
    "- Unordered and unindexed\n",
    "- enclosed in curly braces {}\n",
    "- no duplicated allowed"
   ]
  },
  {
   "cell_type": "code",
   "execution_count": 36,
   "id": "86ed181f",
   "metadata": {},
   "outputs": [
    {
     "data": {
      "text/plain": [
       "{10, 2.5, True, 'cake', 'pizza'}"
      ]
     },
     "execution_count": 36,
     "metadata": {},
     "output_type": "execute_result"
    }
   ],
   "source": [
    "s1 = {'pizza',2.5,True,'cake',10}\n",
    "s1"
   ]
  },
  {
   "cell_type": "code",
   "execution_count": 13,
   "id": "043ac8a4",
   "metadata": {},
   "outputs": [
    {
     "data": {
      "text/plain": [
       "set"
      ]
     },
     "execution_count": 13,
     "metadata": {},
     "output_type": "execute_result"
    }
   ],
   "source": [
    "type(s1)"
   ]
  },
  {
   "cell_type": "code",
   "execution_count": 15,
   "id": "3680fa16",
   "metadata": {},
   "outputs": [
    {
     "data": {
      "text/plain": [
       "{10, 11, 2.5, True, 'cake', 'pizza'}"
      ]
     },
     "execution_count": 15,
     "metadata": {},
     "output_type": "execute_result"
    }
   ],
   "source": [
    "s1.add(11)\n",
    "s1"
   ]
  },
  {
   "cell_type": "code",
   "execution_count": 16,
   "id": "3ca640fe",
   "metadata": {},
   "outputs": [
    {
     "data": {
      "text/plain": [
       "{10, 2.5, True, 'cake', 'pizza'}"
      ]
     },
     "execution_count": 16,
     "metadata": {},
     "output_type": "execute_result"
    }
   ],
   "source": [
    "s1.remove(11)\n",
    "s1"
   ]
  },
  {
   "cell_type": "code",
   "execution_count": 65,
   "id": "679f17ca",
   "metadata": {},
   "outputs": [
    {
     "data": {
      "text/plain": [
       "{10, 2.5, True, 'pizza'}"
      ]
     },
     "execution_count": 65,
     "metadata": {},
     "output_type": "execute_result"
    }
   ],
   "source": [
    "s1.discard('cake') #remove selected from the list\n",
    "s1"
   ]
  },
  {
   "cell_type": "code",
   "execution_count": 37,
   "id": "14796d3b",
   "metadata": {},
   "outputs": [
    {
     "data": {
      "text/plain": [
       "{100.1, 9, False, 'cake'}"
      ]
     },
     "execution_count": 37,
     "metadata": {},
     "output_type": "execute_result"
    }
   ],
   "source": [
    "t1 = {'cake',9,False,100.1}\n",
    "t1"
   ]
  },
  {
   "cell_type": "code",
   "execution_count": 70,
   "id": "d43c6792",
   "metadata": {},
   "outputs": [
    {
     "data": {
      "text/plain": [
       "set"
      ]
     },
     "execution_count": 70,
     "metadata": {},
     "output_type": "execute_result"
    }
   ],
   "source": [
    "type(t1)"
   ]
  },
  {
   "cell_type": "code",
   "execution_count": 72,
   "id": "b7950ce7",
   "metadata": {},
   "outputs": [
    {
     "data": {
      "text/plain": [
       "False"
      ]
     },
     "execution_count": 72,
     "metadata": {},
     "output_type": "execute_result"
    }
   ],
   "source": [
    "z1 = s1.isdisjoint(t1) # return true if none of the items match else false\n",
    "z1"
   ]
  },
  {
   "cell_type": "code",
   "execution_count": 73,
   "id": "18d85478",
   "metadata": {},
   "outputs": [
    {
     "data": {
      "text/plain": [
       "{True}"
      ]
     },
     "execution_count": 73,
     "metadata": {},
     "output_type": "execute_result"
    }
   ],
   "source": [
    "z1 = s1.intersection(t1) # return true if find similar in both sets\n",
    "z1"
   ]
  },
  {
   "cell_type": "code",
   "execution_count": 79,
   "id": "002a83cf",
   "metadata": {},
   "outputs": [
    {
     "data": {
      "text/plain": [
       "set()"
      ]
     },
     "execution_count": 79,
     "metadata": {},
     "output_type": "execute_result"
    }
   ],
   "source": [
    "s1.intersection_update(t1) #Remove the items that is not present in both s1 and t1:\n",
    "s1"
   ]
  },
  {
   "cell_type": "code",
   "execution_count": 74,
   "id": "4a685bc8",
   "metadata": {},
   "outputs": [
    {
     "data": {
      "text/plain": [
       "{10, 2.5, 'pizza'}"
      ]
     },
     "execution_count": 74,
     "metadata": {},
     "output_type": "execute_result"
    }
   ],
   "source": [
    "z1 = s1.difference(t1) #Return a set that contains the items that only exist in set s1, and not in set t1:\n",
    "\n",
    "\n",
    "z1"
   ]
  },
  {
   "cell_type": "code",
   "execution_count": 78,
   "id": "6b54dbb1",
   "metadata": {},
   "outputs": [
    {
     "data": {
      "text/plain": [
       "{10, 2.5, 'pizza'}"
      ]
     },
     "execution_count": 78,
     "metadata": {},
     "output_type": "execute_result"
    }
   ],
   "source": [
    "s1.difference_update(t1) #Remove the items that exist in both sets:\n",
    "s1"
   ]
  },
  {
   "cell_type": "code",
   "execution_count": 53,
   "id": "c0d8842c",
   "metadata": {
    "scrolled": true
   },
   "outputs": [
    {
     "data": {
      "text/plain": [
       "{10, 2.5, True, 'cake', 'pizza'}"
      ]
     },
     "execution_count": 53,
     "metadata": {},
     "output_type": "execute_result"
    }
   ],
   "source": [
    "s1 = {'pizza',2.5,True,'cake',10}\n",
    "s1"
   ]
  },
  {
   "cell_type": "code",
   "execution_count": 52,
   "id": "dd4987fd",
   "metadata": {},
   "outputs": [
    {
     "data": {
      "text/plain": [
       "{100.1, 9, False, 'cake'}"
      ]
     },
     "execution_count": 52,
     "metadata": {},
     "output_type": "execute_result"
    }
   ],
   "source": [
    "t1 = {'cake',9,False,100.1}\n",
    "t1"
   ]
  },
  {
   "cell_type": "code",
   "execution_count": 41,
   "id": "054aa0fc",
   "metadata": {
    "scrolled": true
   },
   "outputs": [
    {
     "data": {
      "text/plain": [
       "{'cake'}"
      ]
     },
     "execution_count": 41,
     "metadata": {},
     "output_type": "execute_result"
    }
   ],
   "source": [
    "s1.intersection_update(t1) # remove the item that are not present in bot sets\n",
    "s1"
   ]
  },
  {
   "cell_type": "code",
   "execution_count": 44,
   "id": "e67b33e8",
   "metadata": {},
   "outputs": [
    {
     "data": {
      "text/plain": [
       "False"
      ]
     },
     "execution_count": 44,
     "metadata": {},
     "output_type": "execute_result"
    }
   ],
   "source": [
    "s1.issubset(t1) #Return True if all items in set s1 are present in set t1\n"
   ]
  },
  {
   "cell_type": "code",
   "execution_count": 45,
   "id": "e37c30a7",
   "metadata": {},
   "outputs": [
    {
     "data": {
      "text/plain": [
       "False"
      ]
     },
     "execution_count": 45,
     "metadata": {},
     "output_type": "execute_result"
    }
   ],
   "source": [
    "s1.issuperset(t1) #Return True if all items set t1 are present in set s1\n"
   ]
  },
  {
   "cell_type": "code",
   "execution_count": 47,
   "id": "f936a6d4",
   "metadata": {},
   "outputs": [
    {
     "data": {
      "text/plain": [
       "{10, 2.5, True, 'cake'}"
      ]
     },
     "execution_count": 47,
     "metadata": {},
     "output_type": "execute_result"
    }
   ],
   "source": [
    "s1.pop() #Remove a random item from the set:\n",
    "s1"
   ]
  },
  {
   "cell_type": "code",
   "execution_count": 48,
   "id": "cd1fb0f0",
   "metadata": {},
   "outputs": [
    {
     "data": {
      "text/plain": [
       "{10, True, 'cake'}"
      ]
     },
     "execution_count": 48,
     "metadata": {},
     "output_type": "execute_result"
    }
   ],
   "source": [
    "s1.remove(2.5) #remove any item\n",
    "s1"
   ]
  },
  {
   "cell_type": "code",
   "execution_count": 51,
   "id": "7caccce0",
   "metadata": {},
   "outputs": [
    {
     "data": {
      "text/plain": [
       "{10, 100.1, 2.5, 9, False, True, 'pizza'}"
      ]
     },
     "execution_count": 51,
     "metadata": {},
     "output_type": "execute_result"
    }
   ],
   "source": [
    "z1 = s1.symmetric_difference(t1) #return all from both set but not the same items from both sets\n",
    "z1"
   ]
  },
  {
   "cell_type": "code",
   "execution_count": 56,
   "id": "3ddc193a",
   "metadata": {},
   "outputs": [],
   "source": [
    "z2 = s1.symmetric_difference_update(t1) #Remove the items that are present in both sets, AND insert the items that is not present in both sets:\n",
    "z2"
   ]
  },
  {
   "cell_type": "code",
   "execution_count": 62,
   "id": "7bd5359a",
   "metadata": {},
   "outputs": [
    {
     "data": {
      "text/plain": [
       "{10, 100.1, 2.5, 9, False, True, 'cake', 'pizza'}"
      ]
     },
     "execution_count": 62,
     "metadata": {},
     "output_type": "execute_result"
    }
   ],
   "source": [
    "g2 = s1.union(t1) #Return a set that contains all items from both sets, duplicates are excluded:\n",
    "g2"
   ]
  },
  {
   "cell_type": "code",
   "execution_count": 63,
   "id": "0231a503",
   "metadata": {},
   "outputs": [],
   "source": [
    "h1 = s1.update(t1)\n",
    "h1"
   ]
  }
 ],
 "metadata": {
  "kernelspec": {
   "display_name": "Python 3 (ipykernel)",
   "language": "python",
   "name": "python3"
  },
  "language_info": {
   "codemirror_mode": {
    "name": "ipython",
    "version": 3
   },
   "file_extension": ".py",
   "mimetype": "text/x-python",
   "name": "python",
   "nbconvert_exporter": "python",
   "pygments_lexer": "ipython3",
   "version": "3.9.13"
  }
 },
 "nbformat": 4,
 "nbformat_minor": 5
}
