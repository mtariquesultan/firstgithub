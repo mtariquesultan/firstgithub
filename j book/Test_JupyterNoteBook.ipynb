{
 "cells": [
  {
   "cell_type": "markdown",
   "id": "d0719f71",
   "metadata": {},
   "source": [
    "# Learn Python \n",
    "## How to use Jupyter Notebook\n",
    "### Basic of Python*\n",
    "**1- My first Program**"
   ]
  },
  {
   "cell_type": "code",
   "execution_count": 7,
   "id": "c46fcfbe",
   "metadata": {},
   "outputs": [
    {
     "name": "stdout",
     "output_type": "stream",
     "text": [
      "tariq\n",
      "5\n",
      "i have started learnig now\n"
     ]
    }
   ],
   "source": [
    "print(\"tariq\")\n",
    "print(2+3)\n",
    "print(\"i have started learnig now\")"
   ]
  },
  {
   "cell_type": "markdown",
   "id": "2f6fe9d3",
   "metadata": {},
   "source": [
    "**2 - Oprtators** "
   ]
  },
  {
   "cell_type": "code",
   "execution_count": 8,
   "id": "37b0f77c",
   "metadata": {},
   "outputs": [
    {
     "name": "stdout",
     "output_type": "stream",
     "text": [
      "3\n",
      "2.0\n",
      "2\n",
      "-2\n",
      "1\n",
      "2\n",
      "16\n",
      "383.0\n"
     ]
    }
   ],
   "source": [
    "print(2+1)\n",
    "print(2/1)\n",
    "print(2*1)\n",
    "print(2-4)\n",
    "print(13%2)\n",
    "print(2//1)\n",
    "print(2**4)\n",
    "#Now try someting new \n",
    "print (2*(7**2)/2*8-9)"
   ]
  },
  {
   "cell_type": "markdown",
   "id": "f1a3efa5",
   "metadata": {},
   "source": [
    "**3 - Strings** "
   ]
  },
  {
   "cell_type": "code",
   "execution_count": 1,
   "id": "1510060c",
   "metadata": {
    "scrolled": true
   },
   "outputs": [
    {
     "name": "stdout",
     "output_type": "stream",
     "text": [
      "This is my first string\n",
      "i have started learnig now\n",
      "i have started learnig now\n",
      "Whats\"s up\n"
     ]
    }
   ],
   "source": [
    "print('This is my first string')\n",
    "print(\"i have started learnig now\")\n",
    "print('''i have started learnig now''')\n",
    "#Now Practice\n",
    "print('Whats\"s up')"
   ]
  },
  {
   "cell_type": "markdown",
   "id": "55bc127b",
   "metadata": {},
   "source": [
    "**4- Comments **"
   ]
  },
  {
   "cell_type": "code",
   "execution_count": 2,
   "id": "896a7275",
   "metadata": {
    "scrolled": true
   },
   "outputs": [
    {
     "name": "stdout",
     "output_type": "stream",
     "text": [
      "Asslam O Alkium \n",
      "11\n",
      "Waalikum O Alkium \n"
     ]
    }
   ],
   "source": [
    "print(\"Asslam O Alkium \") # This is srting\n",
    "print(2+6+3) # This is calculation\n",
    "print(\"Waalikum O Alkium \")"
   ]
  },
  {
   "cell_type": "markdown",
   "id": "3def56ef",
   "metadata": {},
   "source": [
    "**5- Variables **"
   ]
  },
  {
   "cell_type": "code",
   "execution_count": 4,
   "id": "3c67f7a5",
   "metadata": {
    "scrolled": true
   },
   "outputs": [
    {
     "name": "stdout",
     "output_type": "stream",
     "text": [
      "5\n",
      "We are learning Pythoin\n",
      "5 We are learning Pythoin\n",
      "<class 'int'>\n",
      "<class 'str'>\n",
      "<class 'int'> 6\n"
     ]
    }
   ],
   "source": [
    "#Ruels for assing a variable\n",
    "# 1 - The variable should contain letter number or underscor\n",
    "# 2 - Never start from number\n",
    "# 3 - spaces are not allowed\n",
    "# 4 - Dont use buily in keywords\n",
    "# 5 - short and descrptive\n",
    "# 6 - case sensitivity (always use lowercase)\n",
    "\n",
    "x = 5\n",
    "print(x)\n",
    "\n",
    "y = \"We are learning Pythoin\"\n",
    "print(y)\n",
    "print(x,y)\n",
    "\n",
    "#type class of varaibles\n",
    "\n",
    "print(type(x))\n",
    "print(type(y))\n",
    "\n",
    "bat = 6\n",
    "#del bat\n",
    "print(type(bat),bat)"
   ]
  },
  {
   "cell_type": "markdown",
   "id": "fc7b21a2",
   "metadata": {},
   "source": [
    "**6- Input-Variables **"
   ]
  },
  {
   "cell_type": "code",
   "execution_count": 5,
   "id": "9876b255",
   "metadata": {
    "scrolled": true
   },
   "outputs": [
    {
     "name": "stdout",
     "output_type": "stream",
     "text": [
      "Red\n",
      "How old are your17\n",
      "What is your name? tariq\n",
      "Asslam o Alikum tariq You are young\n"
     ]
    }
   ],
   "source": [
    "decide_color = 'Red'\n",
    "print(decide_color)\n",
    "\n",
    "\n",
    "#simple input function \n",
    "#decide_color = input('Write your favour color ')\n",
    "#print(decide_color)\n",
    "\n",
    "#input name function\n",
    "# greetings = 'Assalam o Alikum'\n",
    "# name = input('What is your name ? ')\n",
    "# print (greetings, name)\n",
    "\n",
    "#3rd type of input function\n",
    "\n",
    "age = input('How old are your')\n",
    "name = input('What is your name? ')\n",
    "greetings = 'Asslam o Alikum'\n",
    "\n",
    "print(greetings, name, 'You are young')"
   ]
  },
  {
   "cell_type": "markdown",
   "id": "8d929e85",
   "metadata": {},
   "source": [
    "**7- Conditional-Logic **"
   ]
  },
  {
   "cell_type": "code",
   "execution_count": 6,
   "id": "d403a0d8",
   "metadata": {
    "scrolled": true
   },
   "outputs": [
    {
     "name": "stdout",
     "output_type": "stream",
     "text": [
      "what is your child age ? 5\n",
      "False\n",
      "<class 'int'>\n",
      "<class 'str'>\n",
      "You are eligible\n"
     ]
    }
   ],
   "source": [
    "# logical operators are either true or false or 0 or 1 or yes or no\n",
    "# equal to                  ==\n",
    "# not equal to              !=\n",
    "# less then                 <\n",
    "# greater then              >\n",
    "# less then or equal to     <=\n",
    "# greater then or equal to  >=\n",
    "\n",
    "#is 4 equal to 4\n",
    "# print(4==4)\n",
    "\n",
    "# hareem = 4\n",
    "# ameera = 1\n",
    "\n",
    "# print(hareem==ameera)\n",
    "\n",
    "# #school age requirment\n",
    "\n",
    "name = 'hareem'\n",
    "school_req = 4\n",
    "\n",
    "age = input('what is your child age ? ')\n",
    "print(school_req == age )\n",
    "print(type (school_req))\n",
    "print(type (age))\n",
    "print('You are eligible')\n"
   ]
  },
  {
   "cell_type": "markdown",
   "id": "9555dfdf",
   "metadata": {},
   "source": [
    "**8- Type Conversion **"
   ]
  },
  {
   "cell_type": "code",
   "execution_count": 7,
   "id": "8ad08123",
   "metadata": {},
   "outputs": [
    {
     "name": "stdout",
     "output_type": "stream",
     "text": [
      "Please type your name tariq\n",
      "<class 'str'> tariq\n"
     ]
    }
   ],
   "source": [
    "# x = 1            #integer\n",
    "# y = 1.0          #float\n",
    "# z = 'Tariq'      #string\n",
    "\n",
    "# #implicit type converstion\n",
    "# x = x + y\n",
    "# print(x, 'Type of y ', type(y))\n",
    "\n",
    "#explicit type conversion\n",
    "# age = input('Please type your age ')\n",
    "# #age = int(age)\n",
    "# print(type(float(age)), age)\n",
    "\n",
    "name = input('Please type your name ')\n",
    "#age = int(age)\n",
    "print(type(str(name)), name)"
   ]
  },
  {
   "cell_type": "markdown",
   "id": "7512bde1",
   "metadata": {},
   "source": [
    "**09- if else elif**"
   ]
  },
  {
   "cell_type": "code",
   "execution_count": 8,
   "id": "151a79c7",
   "metadata": {
    "scrolled": true
   },
   "outputs": [
    {
     "name": "stdout",
     "output_type": "stream",
     "text": [
      "what is your age? 2\n",
      "you should enjoy\n"
     ]
    }
   ],
   "source": [
    "# # Can ali reqiest for National Identity Card\n",
    "# ali_age = 16\n",
    "# nic_age = 18\n",
    "# if ali_age == nic_age:\n",
    "#     print('You are eligible for nic card')\n",
    "# else:\n",
    "#     print('You are not eligible for nic card')\n",
    "\n",
    "# Primary_Secondarr_Higher\n",
    "# \n",
    "age         = input('what is your age? ')  \n",
    "primary_age = 4 \n",
    "\n",
    "if   int(age) == primary_age :\n",
    "     print('You admission on primary')\n",
    "elif int(age)  > primary_age :\n",
    "     print('You admission on secondary')\n",
    "elif int(age)  <= 2 :\n",
    "     print('you should enjoy')     \n",
    "else: \n",
    "     print('You are young') "
   ]
  },
  {
   "cell_type": "markdown",
   "id": "d5c9bd04",
   "metadata": {},
   "source": [
    "**10 Function**"
   ]
  },
  {
   "cell_type": "code",
   "execution_count": 11,
   "id": "8bf78f35",
   "metadata": {
    "scrolled": true
   },
   "outputs": [
    {
     "name": "stdout",
     "output_type": "stream",
     "text": [
      "Tariq\n",
      "Tariq\n",
      "Tariq\n",
      "Tarique\n",
      "Tarique\n",
      "Tarique\n",
      "Tarique\n",
      "Tarique\n",
      "Tarique\n",
      "YOu need to become a data scientist\n",
      "40\n"
     ]
    }
   ],
   "source": [
    "\n",
    "# 1st Method of Function\n",
    "\n",
    "def print_name():\n",
    "    print('Tariq')\n",
    "    print('Tariq')\n",
    "    print('Tariq')\n",
    "\n",
    "print_name()\n",
    "\n",
    "# 2nd Method of function\n",
    "\n",
    "def print_name1():\n",
    "    text = 'Tarique'\n",
    "    print(text)\n",
    "    print(text)\n",
    "    print(text)\n",
    "\n",
    "print_name1()\n",
    "\n",
    "# 3rd Method of function\n",
    "\n",
    "def print_name2(text):\n",
    " #   text = 'Tarique'\n",
    "    print(text)\n",
    "    print(text)\n",
    "    print(text)\n",
    "\n",
    "print_name2('Tarique')\n",
    "\n",
    "# 3rd type with if elfi and else\n",
    "\n",
    "def job_requirment_skills(skills):\n",
    "    if skills == 'Data Scients':\n",
    "        print('YOu are eligible for Google Company')\n",
    "    elif skills == 'Machine Learning':\n",
    "        print('YOu need to become a data scientist')\n",
    "    else:\n",
    "        print('YOu should learn more')   \n",
    "\n",
    "job_requirment_skills('Machine Learning')  \n",
    "\n",
    "# # define a function of future\n",
    "\n",
    "def future_date(age):\n",
    "    age = age + 20\n",
    "    return age\n",
    "    print(age)\n",
    "\n",
    "future_predicted_age = future_date(20)\n",
    "print(future_predicted_age)\n",
    "\n"
   ]
  },
  {
   "cell_type": "markdown",
   "id": "83c8a86d",
   "metadata": {},
   "source": [
    "**11 - Loops **"
   ]
  },
  {
   "cell_type": "code",
   "execution_count": 12,
   "id": "65dfbc0c",
   "metadata": {
    "scrolled": true
   },
   "outputs": [
    {
     "name": "stdout",
     "output_type": "stream",
     "text": [
      "0\n",
      "1\n",
      "2\n",
      "3\n",
      "4\n",
      "4\n",
      "5\n",
      "6\n",
      "7\n",
      "8\n",
      "9\n",
      "10\n",
      "Mon\n",
      "Tue\n",
      "Wed\n",
      "Thus\n"
     ]
    }
   ],
   "source": [
    "#while loops and For Loops \n",
    "#while loops\n",
    "\n",
    "x = 0\n",
    "while (x<5):\n",
    "    print(x)\n",
    "    x = x+1\n",
    "\n",
    "#for loop\n",
    "\n",
    "for x in range(4,11):\n",
    "    print(x)    \n",
    "\n",
    "# array\n",
    "\n",
    "days = ['Mon','Tue','Wed','Thus','Fri','Sat','Sun']\n",
    "\n",
    "for d in days:\n",
    "    if (d == 'Fri'): break  #break means stop before it and continue means skip\n",
    "    print(d)\n",
    "\n"
   ]
  },
  {
   "cell_type": "markdown",
   "id": "50ea7c0c",
   "metadata": {},
   "source": [
    "**12 -- Import Liabraries**"
   ]
  },
  {
   "cell_type": "code",
   "execution_count": 13,
   "id": "57ebb960",
   "metadata": {
    "scrolled": true
   },
   "outputs": [
    {
     "name": "stdout",
     "output_type": "stream",
     "text": [
      "The value of PI  3.141592653589793\n",
      "The means is [10,20,30,40,50] is  30\n"
     ]
    }
   ],
   "source": [
    "# for printing a PI value\n",
    "\n",
    "import math\n",
    "print('The value of PI ', math.pi)\n",
    "\n",
    "\n",
    "import statistics\n",
    "\n",
    "x = [10,20,30,40,50]\n",
    "\n",
    "print('The means is [10,20,30,40,50] is ', statistics.mean(x))"
   ]
  },
  {
   "cell_type": "markdown",
   "id": "1e58d86a",
   "metadata": {},
   "source": [
    "**13-- Trouble Shooting**"
   ]
  },
  {
   "cell_type": "code",
   "execution_count": 14,
   "id": "0fa59b40",
   "metadata": {},
   "outputs": [
    {
     "ename": "ZeroDivisionError",
     "evalue": "division by zero",
     "output_type": "error",
     "traceback": [
      "\u001b[1;31m---------------------------------------------------------------------------\u001b[0m",
      "\u001b[1;31mZeroDivisionError\u001b[0m                         Traceback (most recent call last)",
      "\u001b[1;32m~\\AppData\\Local\\Temp\\ipykernel_5092\\451233489.py\u001b[0m in \u001b[0;36m<module>\u001b[1;34m\u001b[0m\n\u001b[0;32m      3\u001b[0m \u001b[1;31m#systax err\u001b[0m\u001b[1;33m\u001b[0m\u001b[1;33m\u001b[0m\u001b[0m\n\u001b[0;32m      4\u001b[0m \u001b[1;31m#\u001b[0m\u001b[1;33m\u001b[0m\u001b[1;33m\u001b[0m\u001b[0m\n\u001b[1;32m----> 5\u001b[1;33m \u001b[0mprint\u001b[0m\u001b[1;33m(\u001b[0m\u001b[1;36m25\u001b[0m\u001b[1;33m/\u001b[0m\u001b[1;36m0\u001b[0m\u001b[1;33m)\u001b[0m\u001b[1;33m\u001b[0m\u001b[1;33m\u001b[0m\u001b[0m\n\u001b[0m",
      "\u001b[1;31mZeroDivisionError\u001b[0m: division by zero"
     ]
    }
   ],
   "source": [
    "#trouble shooting is easy\n",
    "\n",
    "#systax err\n",
    "#\n",
    "print(25/0)"
   ]
  }
 ],
 "metadata": {
  "kernelspec": {
   "display_name": "Python 3 (ipykernel)",
   "language": "python",
   "name": "python3"
  },
  "language_info": {
   "codemirror_mode": {
    "name": "ipython",
    "version": 3
   },
   "file_extension": ".py",
   "mimetype": "text/x-python",
   "name": "python",
   "nbconvert_exporter": "python",
   "pygments_lexer": "ipython3",
   "version": "3.9.13"
  }
 },
 "nbformat": 4,
 "nbformat_minor": 5
}
